{
 "cells": [
  {
   "cell_type": "code",
   "execution_count": 5,
   "id": "bdae7ab9",
   "metadata": {},
   "outputs": [
    {
     "name": "stdout",
     "output_type": "stream",
     "text": [
      "Collecting google-cloud-bigquery\n",
      "  Downloading google_cloud_bigquery-3.34.0-py3-none-any.whl (253 kB)\n",
      "                                              0.0/253.6 kB ? eta -:--:--\n",
      "     ------------                            81.9/253.6 kB 1.5 MB/s eta 0:00:01\n",
      "     ------------                            81.9/253.6 kB 1.5 MB/s eta 0:00:01\n",
      "     -----------------                    122.9/253.6 kB 901.1 kB/s eta 0:00:01\n",
      "     ------------------------------         204.8/253.6 kB 1.0 MB/s eta 0:00:01\n",
      "     -------------------------------------- 253.6/253.6 kB 1.1 MB/s eta 0:00:00\n",
      "Collecting google-api-core[grpc]<3.0.0,>=2.11.1 (from google-cloud-bigquery)\n",
      "  Downloading google_api_core-2.25.1-py3-none-any.whl (160 kB)\n",
      "                                              0.0/160.8 kB ? eta -:--:--\n",
      "     ----------------------                  92.2/160.8 kB 2.6 MB/s eta 0:00:01\n",
      "     ---------------------------------      143.4/160.8 kB 1.7 MB/s eta 0:00:01\n",
      "     -------------------------------------- 160.8/160.8 kB 1.4 MB/s eta 0:00:00\n",
      "Collecting google-auth<3.0.0,>=2.14.1 (from google-cloud-bigquery)\n",
      "  Downloading google_auth-2.40.3-py2.py3-none-any.whl (216 kB)\n",
      "                                              0.0/216.1 kB ? eta -:--:--\n",
      "     ------------------                     102.4/216.1 kB 6.1 MB/s eta 0:00:01\n",
      "     -------------------------------------- 216.1/216.1 kB 2.6 MB/s eta 0:00:00\n",
      "Collecting google-cloud-core<3.0.0,>=2.4.1 (from google-cloud-bigquery)\n",
      "  Downloading google_cloud_core-2.4.3-py2.py3-none-any.whl (29 kB)\n",
      "Collecting google-resumable-media<3.0.0,>=2.0.0 (from google-cloud-bigquery)\n",
      "  Downloading google_resumable_media-2.7.2-py2.py3-none-any.whl (81 kB)\n",
      "                                              0.0/81.3 kB ? eta -:--:--\n",
      "     ------------------------------           61.4/81.3 kB 1.6 MB/s eta 0:00:01\n",
      "     -------------------------------------- 81.3/81.3 kB 910.4 kB/s eta 0:00:00\n",
      "Collecting packaging>=24.2.0 (from google-cloud-bigquery)\n",
      "  Downloading packaging-25.0-py3-none-any.whl (66 kB)\n",
      "                                              0.0/66.5 kB ? eta -:--:--\n",
      "     ---------------------------------------- 66.5/66.5 kB 1.8 MB/s eta 0:00:00\n",
      "Requirement already satisfied: python-dateutil<3.0.0,>=2.8.2 in c:\\users\\suryanshu\\anaconda3\\lib\\site-packages (from google-cloud-bigquery) (2.8.2)\n",
      "Requirement already satisfied: requests<3.0.0,>=2.21.0 in c:\\users\\suryanshu\\anaconda3\\lib\\site-packages (from google-cloud-bigquery) (2.29.0)\n",
      "Collecting googleapis-common-protos<2.0.0,>=1.56.2 (from google-api-core[grpc]<3.0.0,>=2.11.1->google-cloud-bigquery)\n",
      "  Downloading googleapis_common_protos-1.70.0-py3-none-any.whl (294 kB)\n",
      "                                              0.0/294.5 kB ? eta -:--:--\n",
      "     ------------                            92.2/294.5 kB 5.1 MB/s eta 0:00:01\n",
      "     ------------------------------         235.5/294.5 kB 2.9 MB/s eta 0:00:01\n",
      "     ---------------------------------      256.0/294.5 kB 1.7 MB/s eta 0:00:01\n",
      "     -------------------------------------- 294.5/294.5 kB 1.7 MB/s eta 0:00:00\n",
      "Collecting protobuf!=3.20.0,!=3.20.1,!=4.21.0,!=4.21.1,!=4.21.2,!=4.21.3,!=4.21.4,!=4.21.5,<7.0.0,>=3.19.5 (from google-api-core[grpc]<3.0.0,>=2.11.1->google-cloud-bigquery)\n",
      "  Downloading protobuf-6.31.1-cp310-abi3-win_amd64.whl (435 kB)\n",
      "                                              0.0/435.3 kB ? eta -:--:--\n",
      "     ----------                             122.9/435.3 kB 7.5 MB/s eta 0:00:01\n",
      "     ---------------                        174.1/435.3 kB 2.1 MB/s eta 0:00:01\n",
      "     --------------------------             307.2/435.3 kB 2.4 MB/s eta 0:00:01\n",
      "     -----------------------------          337.9/435.3 kB 1.9 MB/s eta 0:00:01\n",
      "     -------------------------------------- 435.3/435.3 kB 2.1 MB/s eta 0:00:00\n",
      "Collecting proto-plus<2.0.0,>=1.22.3 (from google-api-core[grpc]<3.0.0,>=2.11.1->google-cloud-bigquery)\n",
      "  Downloading proto_plus-1.26.1-py3-none-any.whl (50 kB)\n",
      "                                              0.0/50.2 kB ? eta -:--:--\n",
      "     ---------------------------------------- 50.2/50.2 kB ? eta 0:00:00\n",
      "Collecting grpcio<2.0.0,>=1.33.2 (from google-api-core[grpc]<3.0.0,>=2.11.1->google-cloud-bigquery)\n",
      "  Downloading grpcio-1.73.1-cp311-cp311-win_amd64.whl (4.3 MB)\n",
      "                                              0.0/4.3 MB ? eta -:--:--\n",
      "     -                                        0.2/4.3 MB 3.5 MB/s eta 0:00:02\n",
      "     ---                                      0.3/4.3 MB 4.2 MB/s eta 0:00:01\n",
      "     ---                                      0.4/4.3 MB 2.6 MB/s eta 0:00:02\n",
      "     ----                                     0.5/4.3 MB 3.0 MB/s eta 0:00:02\n",
      "     -----                                    0.6/4.3 MB 2.7 MB/s eta 0:00:02\n",
      "     ------                                   0.7/4.3 MB 2.7 MB/s eta 0:00:02\n",
      "     -------                                  0.9/4.3 MB 2.6 MB/s eta 0:00:02\n",
      "     --------                                 0.9/4.3 MB 2.7 MB/s eta 0:00:02\n",
      "     --------                                 0.9/4.3 MB 2.7 MB/s eta 0:00:02\n",
      "     ----------                               1.1/4.3 MB 2.5 MB/s eta 0:00:02\n",
      "     -----------                              1.3/4.3 MB 2.6 MB/s eta 0:00:02\n",
      "     ------------                             1.3/4.3 MB 2.4 MB/s eta 0:00:02\n",
      "     -------------                            1.4/4.3 MB 2.3 MB/s eta 0:00:02\n",
      "     --------------                           1.6/4.3 MB 2.5 MB/s eta 0:00:02\n",
      "     --------------                           1.6/4.3 MB 2.4 MB/s eta 0:00:02\n",
      "     ----------------                         1.8/4.3 MB 2.5 MB/s eta 0:00:02\n",
      "     -----------------                        1.9/4.3 MB 2.4 MB/s eta 0:00:02\n",
      "     ------------------                       2.0/4.3 MB 2.4 MB/s eta 0:00:01\n",
      "     -------------------                      2.1/4.3 MB 2.4 MB/s eta 0:00:01\n",
      "     -------------------                      2.1/4.3 MB 2.4 MB/s eta 0:00:01\n",
      "     ---------------------                    2.3/4.3 MB 2.4 MB/s eta 0:00:01\n",
      "     ----------------------                   2.4/4.3 MB 2.3 MB/s eta 0:00:01\n",
      "     ----------------------                   2.5/4.3 MB 2.3 MB/s eta 0:00:01\n",
      "     -----------------------                  2.6/4.3 MB 2.3 MB/s eta 0:00:01\n",
      "     ------------------------                 2.7/4.3 MB 2.3 MB/s eta 0:00:01\n",
      "     -------------------------                2.8/4.3 MB 2.3 MB/s eta 0:00:01\n",
      "     --------------------------               2.9/4.3 MB 2.3 MB/s eta 0:00:01\n",
      "     ---------------------------              3.0/4.3 MB 2.3 MB/s eta 0:00:01\n",
      "     ----------------------------             3.1/4.3 MB 2.3 MB/s eta 0:00:01\n",
      "     -----------------------------            3.2/4.3 MB 2.3 MB/s eta 0:00:01\n",
      "     -------------------------------          3.4/4.3 MB 2.3 MB/s eta 0:00:01\n",
      "     -------------------------------          3.4/4.3 MB 2.3 MB/s eta 0:00:01\n",
      "     --------------------------------         3.6/4.3 MB 2.3 MB/s eta 0:00:01\n",
      "     ---------------------------------        3.7/4.3 MB 2.3 MB/s eta 0:00:01\n",
      "     -----------------------------------      3.9/4.3 MB 2.4 MB/s eta 0:00:01\n",
      "     -------------------------------------    4.0/4.3 MB 2.4 MB/s eta 0:00:01\n",
      "     -------------------------------------    4.1/4.3 MB 2.4 MB/s eta 0:00:01\n",
      "     --------------------------------------   4.2/4.3 MB 2.3 MB/s eta 0:00:01\n",
      "     ---------------------------------------  4.3/4.3 MB 2.4 MB/s eta 0:00:01\n",
      "     ---------------------------------------- 4.3/4.3 MB 2.3 MB/s eta 0:00:00\n",
      "Collecting grpcio-status<2.0.0,>=1.33.2 (from google-api-core[grpc]<3.0.0,>=2.11.1->google-cloud-bigquery)\n",
      "  Downloading grpcio_status-1.73.1-py3-none-any.whl (14 kB)\n",
      "Collecting cachetools<6.0,>=2.0.0 (from google-auth<3.0.0,>=2.14.1->google-cloud-bigquery)\n",
      "  Downloading cachetools-5.5.2-py3-none-any.whl (10 kB)\n",
      "Requirement already satisfied: pyasn1-modules>=0.2.1 in c:\\users\\suryanshu\\anaconda3\\lib\\site-packages (from google-auth<3.0.0,>=2.14.1->google-cloud-bigquery) (0.2.8)\n",
      "Collecting rsa<5,>=3.1.4 (from google-auth<3.0.0,>=2.14.1->google-cloud-bigquery)\n",
      "  Downloading rsa-4.9.1-py3-none-any.whl (34 kB)\n",
      "Collecting google-crc32c<2.0dev,>=1.0 (from google-resumable-media<3.0.0,>=2.0.0->google-cloud-bigquery)\n",
      "  Downloading google_crc32c-1.7.1-cp311-cp311-win_amd64.whl (33 kB)\n",
      "Requirement already satisfied: six>=1.5 in c:\\users\\suryanshu\\anaconda3\\lib\\site-packages (from python-dateutil<3.0.0,>=2.8.2->google-cloud-bigquery) (1.16.0)\n",
      "Requirement already satisfied: charset-normalizer<4,>=2 in c:\\users\\suryanshu\\anaconda3\\lib\\site-packages (from requests<3.0.0,>=2.21.0->google-cloud-bigquery) (2.0.4)\n",
      "Requirement already satisfied: idna<4,>=2.5 in c:\\users\\suryanshu\\anaconda3\\lib\\site-packages (from requests<3.0.0,>=2.21.0->google-cloud-bigquery) (3.4)\n",
      "Requirement already satisfied: urllib3<1.27,>=1.21.1 in c:\\users\\suryanshu\\anaconda3\\lib\\site-packages (from requests<3.0.0,>=2.21.0->google-cloud-bigquery) (1.26.16)\n",
      "Requirement already satisfied: certifi>=2017.4.17 in c:\\users\\suryanshu\\anaconda3\\lib\\site-packages (from requests<3.0.0,>=2.21.0->google-cloud-bigquery) (2023.5.7)\n",
      "Requirement already satisfied: pyasn1<0.5.0,>=0.4.6 in c:\\users\\suryanshu\\anaconda3\\lib\\site-packages (from pyasn1-modules>=0.2.1->google-auth<3.0.0,>=2.14.1->google-cloud-bigquery) (0.4.8)\n",
      "Installing collected packages: rsa, protobuf, packaging, grpcio, google-crc32c, cachetools, proto-plus, googleapis-common-protos, google-resumable-media, google-auth, grpcio-status, google-api-core, google-cloud-core, google-cloud-bigquery\n",
      "  Attempting uninstall: packaging\n",
      "    Found existing installation: packaging 23.0\n",
      "    Uninstalling packaging-23.0:\n",
      "      Successfully uninstalled packaging-23.0\n",
      "Successfully installed cachetools-5.5.2 google-api-core-2.25.1 google-auth-2.40.3 google-cloud-bigquery-3.34.0 google-cloud-core-2.4.3 google-crc32c-1.7.1 google-resumable-media-2.7.2 googleapis-common-protos-1.70.0 grpcio-1.73.1 grpcio-status-1.73.1 packaging-25.0 proto-plus-1.26.1 protobuf-6.31.1 rsa-4.9.1\n"
     ]
    },
    {
     "name": "stderr",
     "output_type": "stream",
     "text": [
      "ERROR: pip's dependency resolver does not currently take into account all the packages that are installed. This behaviour is the source of the following dependency conflicts.\n",
      "tables 3.8.0 requires blosc2~=2.0.0, which is not installed.\n",
      "tables 3.8.0 requires cython>=0.29.21, which is not installed.\n",
      "python-lsp-black 1.2.1 requires black>=22.3.0, but you have black 0.0 which is incompatible.\n"
     ]
    },
    {
     "name": "stdout",
     "output_type": "stream",
     "text": [
      "Requirement already satisfied: google-cloud-core in c:\\users\\suryanshu\\anaconda3\\lib\\site-packages (2.4.3)\n",
      "Requirement already satisfied: google-auth in c:\\users\\suryanshu\\anaconda3\\lib\\site-packages (2.40.3)\n",
      "Requirement already satisfied: google-api-core!=2.0.*,!=2.1.*,!=2.2.*,!=2.3.0,<3.0.0dev,>=1.31.6 in c:\\users\\suryanshu\\anaconda3\\lib\\site-packages (from google-cloud-core) (2.25.1)\n",
      "Requirement already satisfied: cachetools<6.0,>=2.0.0 in c:\\users\\suryanshu\\anaconda3\\lib\\site-packages (from google-auth) (5.5.2)\n",
      "Requirement already satisfied: pyasn1-modules>=0.2.1 in c:\\users\\suryanshu\\anaconda3\\lib\\site-packages (from google-auth) (0.2.8)\n",
      "Requirement already satisfied: rsa<5,>=3.1.4 in c:\\users\\suryanshu\\anaconda3\\lib\\site-packages (from google-auth) (4.9.1)\n",
      "Requirement already satisfied: googleapis-common-protos<2.0.0,>=1.56.2 in c:\\users\\suryanshu\\anaconda3\\lib\\site-packages (from google-api-core!=2.0.*,!=2.1.*,!=2.2.*,!=2.3.0,<3.0.0dev,>=1.31.6->google-cloud-core) (1.70.0)\n",
      "Requirement already satisfied: protobuf!=3.20.0,!=3.20.1,!=4.21.0,!=4.21.1,!=4.21.2,!=4.21.3,!=4.21.4,!=4.21.5,<7.0.0,>=3.19.5 in c:\\users\\suryanshu\\anaconda3\\lib\\site-packages (from google-api-core!=2.0.*,!=2.1.*,!=2.2.*,!=2.3.0,<3.0.0dev,>=1.31.6->google-cloud-core) (6.31.1)\n",
      "Requirement already satisfied: proto-plus<2.0.0,>=1.22.3 in c:\\users\\suryanshu\\anaconda3\\lib\\site-packages (from google-api-core!=2.0.*,!=2.1.*,!=2.2.*,!=2.3.0,<3.0.0dev,>=1.31.6->google-cloud-core) (1.26.1)\n",
      "Requirement already satisfied: requests<3.0.0,>=2.18.0 in c:\\users\\suryanshu\\anaconda3\\lib\\site-packages (from google-api-core!=2.0.*,!=2.1.*,!=2.2.*,!=2.3.0,<3.0.0dev,>=1.31.6->google-cloud-core) (2.29.0)\n",
      "Requirement already satisfied: pyasn1<0.5.0,>=0.4.6 in c:\\users\\suryanshu\\anaconda3\\lib\\site-packages (from pyasn1-modules>=0.2.1->google-auth) (0.4.8)\n",
      "Requirement already satisfied: charset-normalizer<4,>=2 in c:\\users\\suryanshu\\anaconda3\\lib\\site-packages (from requests<3.0.0,>=2.18.0->google-api-core!=2.0.*,!=2.1.*,!=2.2.*,!=2.3.0,<3.0.0dev,>=1.31.6->google-cloud-core) (2.0.4)\n",
      "Requirement already satisfied: idna<4,>=2.5 in c:\\users\\suryanshu\\anaconda3\\lib\\site-packages (from requests<3.0.0,>=2.18.0->google-api-core!=2.0.*,!=2.1.*,!=2.2.*,!=2.3.0,<3.0.0dev,>=1.31.6->google-cloud-core) (3.4)\n",
      "Requirement already satisfied: urllib3<1.27,>=1.21.1 in c:\\users\\suryanshu\\anaconda3\\lib\\site-packages (from requests<3.0.0,>=2.18.0->google-api-core!=2.0.*,!=2.1.*,!=2.2.*,!=2.3.0,<3.0.0dev,>=1.31.6->google-cloud-core) (1.26.16)\n",
      "Requirement already satisfied: certifi>=2017.4.17 in c:\\users\\suryanshu\\anaconda3\\lib\\site-packages (from requests<3.0.0,>=2.18.0->google-api-core!=2.0.*,!=2.1.*,!=2.2.*,!=2.3.0,<3.0.0dev,>=1.31.6->google-cloud-core) (2023.5.7)\n"
     ]
    }
   ],
   "source": [
    "!pip install google-cloud-bigquery\n",
    "!pip install google-cloud-core google-auth\n",
    "\n"
   ]
  },
  {
   "cell_type": "code",
   "execution_count": null,
   "id": "4f041ace",
   "metadata": {},
   "outputs": [],
   "source": []
  },
  {
   "cell_type": "code",
   "execution_count": 13,
   "id": "8e5a523a",
   "metadata": {},
   "outputs": [
    {
     "name": "stdout",
     "output_type": "stream",
     "text": [
      "Loaded 43 rows and 2 columns to gen-lang-client-0059672126.loyalty_card_data.loyalty_card_data\n"
     ]
    }
   ],
   "source": [
    "from google.cloud import bigquery\n",
    "\n",
    "client = bigquery.Client.from_service_account_json('connect_gcp.json')\n",
    "\n",
    "table_id = \"gen-lang-client-0059672126.loyalty_card_data.loyalty_card_data\"\n",
    "\n",
    "job_config = bigquery.LoadJobConfig(\n",
    "    write_disposition=bigquery.WriteDisposition.WRITE_TRUNCATE,\n",
    "    source_format=bigquery.SourceFormat.CSV,\n",
    "    skip_leading_rows=1,\n",
    "    autodetect=True   # 🔥 This tells BigQuery to read column types from the CSV\n",
    ")\n",
    "\n",
    "with open('Loyalty Card.csv', \"rb\") as source_file:\n",
    "    job = client.load_table_from_file(source_file, table_id, job_config=job_config)\n",
    "\n",
    "job.result()  # Waits for job to complete\n",
    "\n",
    "table = client.get_table(table_id)\n",
    "print(f\"Loaded {table.num_rows} rows and {len(table.schema)} columns to {table_id}\")\n"
   ]
  },
  {
   "cell_type": "code",
   "execution_count": 11,
   "id": "e2bec4f5",
   "metadata": {},
   "outputs": [
    {
     "name": "stdout",
     "output_type": "stream",
     "text": [
      "['loyalty_card_data']\n"
     ]
    }
   ],
   "source": []
  },
  {
   "cell_type": "code",
   "execution_count": null,
   "id": "e5e7b88c",
   "metadata": {},
   "outputs": [],
   "source": []
  }
 ],
 "metadata": {
  "kernelspec": {
   "display_name": "Python 3 (ipykernel)",
   "language": "python",
   "name": "python3"
  },
  "language_info": {
   "codemirror_mode": {
    "name": "ipython",
    "version": 3
   },
   "file_extension": ".py",
   "mimetype": "text/x-python",
   "name": "python",
   "nbconvert_exporter": "python",
   "pygments_lexer": "ipython3",
   "version": "3.11.3"
  }
 },
 "nbformat": 4,
 "nbformat_minor": 5
}
